{
  "nbformat": 4,
  "nbformat_minor": 0,
  "metadata": {
    "kernelspec": {
      "display_name": "Python 3",
      "language": "python",
      "name": "python3"
    },
    "language_info": {
      "codemirror_mode": {
        "name": "ipython",
        "version": 3
      },
      "file_extension": ".py",
      "mimetype": "text/x-python",
      "name": "python",
      "nbconvert_exporter": "python",
      "pygments_lexer": "ipython3",
      "version": "3.7.3"
    },
    "colab": {
      "name": "Keras-RNN.ipynb",
      "provenance": [],
      "include_colab_link": true
    },
    "accelerator": "GPU"
  },
  "cells": [
    {
      "cell_type": "markdown",
      "metadata": {
        "id": "view-in-github",
        "colab_type": "text"
      },
      "source": [
        "<a href=\"https://colab.research.google.com/github/Shrey-Viradiya/RecSysOreilly/blob/master/RecSys-Materials/DeepLearningIntro/Keras-RNN.ipynb\" target=\"_parent\"><img src=\"https://colab.research.google.com/assets/colab-badge.svg\" alt=\"Open In Colab\"/></a>"
      ]
    },
    {
      "cell_type": "markdown",
      "metadata": {
        "id": "s3D4FBIiZiov",
        "colab_type": "text"
      },
      "source": [
        "# Recurring Neural Networks with Keras\n",
        "\n",
        "## Sentiment analysis from movie reviews\n",
        "\n",
        "This notebook is inspired by the imdb_lstm.py example that ships with Keras. But since I used to run IMDb's engineering department, I couldn't resist!\n",
        "\n",
        "It's actually a great example of using RNN's. The data set we're using consists of user-generated movie reviews and classification of whether the user liked the movie or not based on its associated rating.\n",
        "\n",
        "More info on the dataset is here:\n",
        "\n",
        "https://keras.io/datasets/#imdb-movie-reviews-sentiment-classification\n",
        "\n",
        "So we are going to use an RNN to do sentiment analysis on full-text movie reviews!\n",
        "\n",
        "Think about how amazing this is. We're going to train an artificial neural network how to \"read\" movie reviews and guess  whether the author liked the movie or not from them.\n",
        "\n",
        "Since understanding written language requires keeping track of all the words in a sentence, we need a recurrent neural network to keep a \"memory\" of the words that have come before as it \"reads\" sentences over time.\n",
        "\n",
        "In particular, we'll use LSTM (Long Short-Term Memory) cells because we don't really want to \"forget\" words too quickly - words early on in a sentence can affect the meaning of that sentence significantly.\n",
        "\n",
        "Let's start by importing the stuff we need:"
      ]
    },
    {
      "cell_type": "code",
      "metadata": {
        "id": "PkgoUA2QZioy",
        "colab_type": "code",
        "colab": {}
      },
      "source": [
        "from tensorflow.keras.preprocessing import sequence\n",
        "from tensorflow.keras.models import Sequential\n",
        "from tensorflow.keras.layers import Dense, Embedding\n",
        "from tensorflow.keras.layers import LSTM\n",
        "from tensorflow.keras.datasets import imdb"
      ],
      "execution_count": 0,
      "outputs": []
    },
    {
      "cell_type": "markdown",
      "metadata": {
        "id": "Te50v7DQZio6",
        "colab_type": "text"
      },
      "source": [
        "Now import our training and testing data. We specify that we only care about the 20,000 most popular words in the dataset in order to keep things somewhat managable. The dataset includes 5,000 training reviews and 25,000 testing reviews for some reason."
      ]
    },
    {
      "cell_type": "code",
      "metadata": {
        "id": "b0rgP7b2Zio7",
        "colab_type": "code",
        "colab": {
          "base_uri": "https://localhost:8080/",
          "height": 35
        },
        "outputId": "a37da39e-a537-4762-8add-c015a2c39ba2"
      },
      "source": [
        "print('Loading data...')\n",
        "(x_train, y_train), (x_test, y_test) = imdb.load_data(num_words=20000)"
      ],
      "execution_count": 2,
      "outputs": [
        {
          "output_type": "stream",
          "text": [
            "Loading data...\n"
          ],
          "name": "stdout"
        }
      ]
    },
    {
      "cell_type": "markdown",
      "metadata": {
        "id": "vDQcbcbHZipD",
        "colab_type": "text"
      },
      "source": [
        "Let's get a feel for what this data looks like. Let's look at the first training feature, which should represent a written movie review:"
      ]
    },
    {
      "cell_type": "code",
      "metadata": {
        "id": "huud6WRHZipF",
        "colab_type": "code",
        "colab": {
          "base_uri": "https://localhost:8080/",
          "height": 1000
        },
        "outputId": "3c53fd1a-03fd-40c7-d2cb-254bc0bd921c"
      },
      "source": [
        "x_train[0]"
      ],
      "execution_count": 3,
      "outputs": [
        {
          "output_type": "execute_result",
          "data": {
            "text/plain": [
              "[1,\n",
              " 14,\n",
              " 22,\n",
              " 16,\n",
              " 43,\n",
              " 530,\n",
              " 973,\n",
              " 1622,\n",
              " 1385,\n",
              " 65,\n",
              " 458,\n",
              " 4468,\n",
              " 66,\n",
              " 3941,\n",
              " 4,\n",
              " 173,\n",
              " 36,\n",
              " 256,\n",
              " 5,\n",
              " 25,\n",
              " 100,\n",
              " 43,\n",
              " 838,\n",
              " 112,\n",
              " 50,\n",
              " 670,\n",
              " 2,\n",
              " 9,\n",
              " 35,\n",
              " 480,\n",
              " 284,\n",
              " 5,\n",
              " 150,\n",
              " 4,\n",
              " 172,\n",
              " 112,\n",
              " 167,\n",
              " 2,\n",
              " 336,\n",
              " 385,\n",
              " 39,\n",
              " 4,\n",
              " 172,\n",
              " 4536,\n",
              " 1111,\n",
              " 17,\n",
              " 546,\n",
              " 38,\n",
              " 13,\n",
              " 447,\n",
              " 4,\n",
              " 192,\n",
              " 50,\n",
              " 16,\n",
              " 6,\n",
              " 147,\n",
              " 2025,\n",
              " 19,\n",
              " 14,\n",
              " 22,\n",
              " 4,\n",
              " 1920,\n",
              " 4613,\n",
              " 469,\n",
              " 4,\n",
              " 22,\n",
              " 71,\n",
              " 87,\n",
              " 12,\n",
              " 16,\n",
              " 43,\n",
              " 530,\n",
              " 38,\n",
              " 76,\n",
              " 15,\n",
              " 13,\n",
              " 1247,\n",
              " 4,\n",
              " 22,\n",
              " 17,\n",
              " 515,\n",
              " 17,\n",
              " 12,\n",
              " 16,\n",
              " 626,\n",
              " 18,\n",
              " 19193,\n",
              " 5,\n",
              " 62,\n",
              " 386,\n",
              " 12,\n",
              " 8,\n",
              " 316,\n",
              " 8,\n",
              " 106,\n",
              " 5,\n",
              " 4,\n",
              " 2223,\n",
              " 5244,\n",
              " 16,\n",
              " 480,\n",
              " 66,\n",
              " 3785,\n",
              " 33,\n",
              " 4,\n",
              " 130,\n",
              " 12,\n",
              " 16,\n",
              " 38,\n",
              " 619,\n",
              " 5,\n",
              " 25,\n",
              " 124,\n",
              " 51,\n",
              " 36,\n",
              " 135,\n",
              " 48,\n",
              " 25,\n",
              " 1415,\n",
              " 33,\n",
              " 6,\n",
              " 22,\n",
              " 12,\n",
              " 215,\n",
              " 28,\n",
              " 77,\n",
              " 52,\n",
              " 5,\n",
              " 14,\n",
              " 407,\n",
              " 16,\n",
              " 82,\n",
              " 10311,\n",
              " 8,\n",
              " 4,\n",
              " 107,\n",
              " 117,\n",
              " 5952,\n",
              " 15,\n",
              " 256,\n",
              " 4,\n",
              " 2,\n",
              " 7,\n",
              " 3766,\n",
              " 5,\n",
              " 723,\n",
              " 36,\n",
              " 71,\n",
              " 43,\n",
              " 530,\n",
              " 476,\n",
              " 26,\n",
              " 400,\n",
              " 317,\n",
              " 46,\n",
              " 7,\n",
              " 4,\n",
              " 12118,\n",
              " 1029,\n",
              " 13,\n",
              " 104,\n",
              " 88,\n",
              " 4,\n",
              " 381,\n",
              " 15,\n",
              " 297,\n",
              " 98,\n",
              " 32,\n",
              " 2071,\n",
              " 56,\n",
              " 26,\n",
              " 141,\n",
              " 6,\n",
              " 194,\n",
              " 7486,\n",
              " 18,\n",
              " 4,\n",
              " 226,\n",
              " 22,\n",
              " 21,\n",
              " 134,\n",
              " 476,\n",
              " 26,\n",
              " 480,\n",
              " 5,\n",
              " 144,\n",
              " 30,\n",
              " 5535,\n",
              " 18,\n",
              " 51,\n",
              " 36,\n",
              " 28,\n",
              " 224,\n",
              " 92,\n",
              " 25,\n",
              " 104,\n",
              " 4,\n",
              " 226,\n",
              " 65,\n",
              " 16,\n",
              " 38,\n",
              " 1334,\n",
              " 88,\n",
              " 12,\n",
              " 16,\n",
              " 283,\n",
              " 5,\n",
              " 16,\n",
              " 4472,\n",
              " 113,\n",
              " 103,\n",
              " 32,\n",
              " 15,\n",
              " 16,\n",
              " 5345,\n",
              " 19,\n",
              " 178,\n",
              " 32]"
            ]
          },
          "metadata": {
            "tags": []
          },
          "execution_count": 3
        }
      ]
    },
    {
      "cell_type": "markdown",
      "metadata": {
        "id": "aAwFsQEwZipL",
        "colab_type": "text"
      },
      "source": [
        "That doesn't look like a movie review! But this data set has spared you a lot of trouble - they have already converted words to integer-based indices. The actual letters that make up a word don't really matter as far as our model is concerned, what matters are the words themselves - and our model needs numbers to work with, not letters.\n",
        "\n",
        "So just keep in mind that each number in the training features represent some specific word. It's a bummer that we can't just read the reviews in English as a gut check to see if sentiment analysis is really working, though.\n",
        "\n",
        "What do the labels look like?"
      ]
    },
    {
      "cell_type": "code",
      "metadata": {
        "id": "vyawm0X5ZipM",
        "colab_type": "code",
        "colab": {
          "base_uri": "https://localhost:8080/",
          "height": 35
        },
        "outputId": "1a8d14c4-2f3a-4a8a-a99a-d4ee4c2f0c8d"
      },
      "source": [
        "y_train[0]"
      ],
      "execution_count": 4,
      "outputs": [
        {
          "output_type": "execute_result",
          "data": {
            "text/plain": [
              "1"
            ]
          },
          "metadata": {
            "tags": []
          },
          "execution_count": 4
        }
      ]
    },
    {
      "cell_type": "markdown",
      "metadata": {
        "id": "xfW76ZjXZipS",
        "colab_type": "text"
      },
      "source": [
        "They are just 0 or 1, which indicates whether the reviewer said they liked the movie or not.\n",
        "\n",
        "So to recap, we have a bunch of movie reviews that have been converted into vectors of words represented by integers, and a binary sentiment classification to learn from.\n",
        "\n",
        "RNN's can blow up quickly, so again to keep things managable on our little PC let's limit the reviews to their first 80 words:"
      ]
    },
    {
      "cell_type": "code",
      "metadata": {
        "id": "AO3Hr1AyZipU",
        "colab_type": "code",
        "colab": {}
      },
      "source": [
        "x_train = sequence.pad_sequences(x_train, maxlen=160)\n",
        "x_test = sequence.pad_sequences(x_test, maxlen=160)"
      ],
      "execution_count": 0,
      "outputs": []
    },
    {
      "cell_type": "markdown",
      "metadata": {
        "id": "1YSwv0ovZipa",
        "colab_type": "text"
      },
      "source": [
        "Now let's set up our neural network model! Considering how complicated a LSTM recurrent neural network is under the hood, it's really amazing how easy this is to do with Keras.\n",
        "\n",
        "We will start with an Embedding layer - this is just a step that converts the input data into dense vectors of fixed size that's better suited for a neural network. You generally see this in conjunction with index-based text data like we have here. The 20,000 indicates the vocabulary size (remember we said we only wanted the top 20,000 words) and 128 is the output dimension of 128 units.\n",
        "\n",
        "Next we just have to set up a LSTM layer for the RNN itself. It's that easy. We specify 128 to match the output size of the Embedding layer, and dropout terms to avoid overfitting, which RNN's are particularly prone to.\n",
        "\n",
        "Finally we just need to boil it down to a single neuron with a sigmoid activation function to choose our binay sentiment classification of 0 or 1."
      ]
    },
    {
      "cell_type": "code",
      "metadata": {
        "id": "vyLs0Zf5Zipc",
        "colab_type": "code",
        "colab": {
          "base_uri": "https://localhost:8080/",
          "height": 55
        },
        "outputId": "3673b4fd-da27-4c41-cf37-277704ec2d3d"
      },
      "source": [
        "model = Sequential()\n",
        "model.add(Embedding(20000, 128))\n",
        "model.add(LSTM(128, dropout=0.2, recurrent_dropout=0.2))\n",
        "model.add(Dense(1, activation='sigmoid'))"
      ],
      "execution_count": 6,
      "outputs": [
        {
          "output_type": "stream",
          "text": [
            "WARNING:tensorflow:Layer lstm will not use cuDNN kernel since it doesn't meet the cuDNN kernel criteria. It will use generic GPU kernel as fallback when running on GPU\n"
          ],
          "name": "stdout"
        }
      ]
    },
    {
      "cell_type": "markdown",
      "metadata": {
        "id": "tI6l-QUoZipj",
        "colab_type": "text"
      },
      "source": [
        "As this is a binary classification problem, we'll use the binary_crossentropy loss function. And the Adam optimizer is usually a good choice (feel free to try others.)"
      ]
    },
    {
      "cell_type": "code",
      "metadata": {
        "id": "NSDFxxonZipk",
        "colab_type": "code",
        "colab": {}
      },
      "source": [
        "model.compile(loss='binary_crossentropy',\n",
        "              optimizer='adam',\n",
        "              metrics=['accuracy'])"
      ],
      "execution_count": 0,
      "outputs": []
    },
    {
      "cell_type": "markdown",
      "metadata": {
        "id": "T94hZXBBZipq",
        "colab_type": "text"
      },
      "source": [
        "Now we will actually train our model. RNN's, like CNN's, are very resource heavy. Keeping the batch size relatively small is the key to enabling this to run on your PC at all. In the real word of course, you'd be taking advantage of GPU's installed across many computers on a cluster to make this scale a lot better.\n",
        "\n",
        "## Warning\n",
        "\n",
        "This will take a very long time to run, even on a fast PC! Don't execute the next blocks unless you're prepared to tie up your computer for an hour or more."
      ]
    },
    {
      "cell_type": "markdown",
      "metadata": {
        "id": "wbt5UIvVZipr",
        "colab_type": "text"
      },
      "source": [
        "Now let's kick off the training. Even with a GPU, this will take a long time!"
      ]
    },
    {
      "cell_type": "code",
      "metadata": {
        "id": "D0c4ZJRxZips",
        "colab_type": "code",
        "colab": {
          "base_uri": "https://localhost:8080/",
          "height": 560
        },
        "outputId": "89dca5c9-2a00-4906-ad34-7e9dbe2cadbc"
      },
      "source": [
        "model.fit(x_train, y_train,\n",
        "          batch_size=32,\n",
        "          epochs=15,\n",
        "          verbose=2,\n",
        "          validation_data=(x_test, y_test))"
      ],
      "execution_count": 8,
      "outputs": [
        {
          "output_type": "stream",
          "text": [
            "Epoch 1/15\n",
            "782/782 - 745s - loss: 0.4219 - accuracy: 0.8080 - val_loss: 0.3368 - val_accuracy: 0.8610\n",
            "Epoch 2/15\n",
            "782/782 - 736s - loss: 0.2327 - accuracy: 0.9104 - val_loss: 0.3384 - val_accuracy: 0.8612\n",
            "Epoch 3/15\n",
            "782/782 - 738s - loss: 0.1587 - accuracy: 0.9419 - val_loss: 0.4592 - val_accuracy: 0.8480\n",
            "Epoch 4/15\n",
            "782/782 - 730s - loss: 0.1054 - accuracy: 0.9626 - val_loss: 0.4649 - val_accuracy: 0.8522\n",
            "Epoch 5/15\n",
            "782/782 - 742s - loss: 0.0751 - accuracy: 0.9756 - val_loss: 0.6316 - val_accuracy: 0.8448\n",
            "Epoch 6/15\n",
            "782/782 - 735s - loss: 0.0612 - accuracy: 0.9795 - val_loss: 0.5421 - val_accuracy: 0.8526\n",
            "Epoch 7/15\n",
            "782/782 - 728s - loss: 0.0369 - accuracy: 0.9884 - val_loss: 0.7133 - val_accuracy: 0.8482\n",
            "Epoch 8/15\n",
            "782/782 - 728s - loss: 0.0351 - accuracy: 0.9892 - val_loss: 0.6165 - val_accuracy: 0.8480\n",
            "Epoch 9/15\n",
            "782/782 - 724s - loss: 0.0292 - accuracy: 0.9912 - val_loss: 0.7265 - val_accuracy: 0.8471\n",
            "Epoch 10/15\n",
            "782/782 - 735s - loss: 0.0282 - accuracy: 0.9910 - val_loss: 0.7024 - val_accuracy: 0.8518\n",
            "Epoch 11/15\n",
            "782/782 - 735s - loss: 0.0233 - accuracy: 0.9930 - val_loss: 0.7364 - val_accuracy: 0.8388\n",
            "Epoch 12/15\n",
            "782/782 - 734s - loss: 0.0156 - accuracy: 0.9951 - val_loss: 0.9375 - val_accuracy: 0.8256\n",
            "Epoch 13/15\n",
            "782/782 - 729s - loss: 0.0210 - accuracy: 0.9933 - val_loss: 0.8707 - val_accuracy: 0.8404\n",
            "Epoch 14/15\n",
            "782/782 - 727s - loss: 0.0108 - accuracy: 0.9966 - val_loss: 0.9142 - val_accuracy: 0.8466\n",
            "Epoch 15/15\n",
            "782/782 - 726s - loss: 0.0067 - accuracy: 0.9979 - val_loss: 0.9855 - val_accuracy: 0.8458\n"
          ],
          "name": "stdout"
        },
        {
          "output_type": "execute_result",
          "data": {
            "text/plain": [
              "<tensorflow.python.keras.callbacks.History at 0x7ff6038989b0>"
            ]
          },
          "metadata": {
            "tags": []
          },
          "execution_count": 8
        }
      ]
    },
    {
      "cell_type": "markdown",
      "metadata": {
        "id": "OWh4zAoFZipx",
        "colab_type": "text"
      },
      "source": [
        "OK, let's evaluate our model's accuracy:"
      ]
    },
    {
      "cell_type": "code",
      "metadata": {
        "id": "l_exLBgmZipz",
        "colab_type": "code",
        "colab": {
          "base_uri": "https://localhost:8080/",
          "height": 70
        },
        "outputId": "8d516267-35f4-48c0-b070-01cc5f11c869"
      },
      "source": [
        "score, acc = model.evaluate(x_test, y_test,\n",
        "                            batch_size=32,\n",
        "                            verbose=2)\n",
        "print('Test score:', score)\n",
        "print('Test accuracy:', acc)"
      ],
      "execution_count": 9,
      "outputs": [
        {
          "output_type": "stream",
          "text": [
            "782/782 - 46s - loss: 0.9855 - accuracy: 0.8458\n",
            "Test score: 0.9855278134346008\n",
            "Test accuracy: 0.8457599878311157\n"
          ],
          "name": "stdout"
        }
      ]
    },
    {
      "cell_type": "markdown",
      "metadata": {
        "id": "CVLAHxbOZip7",
        "colab_type": "text"
      },
      "source": [
        "80% eh? Not too bad, considering we limited ourselves to just the first 80 words of each review.\n",
        "\n",
        "Note that the validation accuracy while we were training never really improved after the first epoch; we're likely just overfitting. This is a case where early stopping would have been beneficial.\n",
        "\n",
        "But again - stop and think about what we just made here! A neural network that can \"read\" reviews and deduce whether the author liked the movie or not based on that text. And it takes the context of each word and its position in the review into account - and setting up the model itself was just a few lines of code! It's pretty incredible what you can do with Keras."
      ]
    },
    {
      "cell_type": "code",
      "metadata": {
        "id": "hIR-3bCrZip9",
        "colab_type": "code",
        "colab": {}
      },
      "source": [
        ""
      ],
      "execution_count": 0,
      "outputs": []
    }
  ]
}